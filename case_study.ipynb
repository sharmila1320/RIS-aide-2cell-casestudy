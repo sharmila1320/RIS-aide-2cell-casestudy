{
 "cells": [
  {
   "cell_type": "code",
   "execution_count": 12,
   "id": "a04faaee",
   "metadata": {},
   "outputs": [],
   "source": [
    "import numpy as np\n",
    "import matplotlib.pyplot as plt\n",
    "\n",
    "# Setup\n",
    "np.random.seed(0)\n",
    "N = 16  # RIS elements\n",
    "alpha = 2.2  # Path loss exponent\n",
    "P = 1  # Transmit power\n",
    "sigma2 = 1e-3  # Noise power\n",
    "\n",
    "# 2D coordinates\n",
    "BS1 = np.array([0, 0])\n",
    "BS2 = np.array([20, 0])\n",
    "U1 = np.array([5, 0])\n",
    "U2 = np.array([15, 0])\n",
    "RIS = np.array([10, 0])\n",
    "\n",
    "def distance(a, b):\n",
    "    return np.linalg.norm(a - b)\n",
    "\n",
    "def rayleigh_channel(d):\n",
    "    pl = 1 / (d ** alpha)\n",
    "    return np.sqrt(pl / 2) * (np.random.randn() + 1j * np.random.randn())\n",
    "\n",
    "# Direct channels\n",
    "h_BS1_U1 = rayleigh_channel(distance(BS1, U1))\n",
    "h_BS2_U2 = rayleigh_channel(distance(BS2, U2))\n",
    "h_BS1_U2 = rayleigh_channel(distance(BS1, U2))  # interference\n",
    "h_BS2_U1 = rayleigh_channel(distance(BS2, U1))  # interference\n",
    "\n",
    "# RIS channels\n",
    "f_BS1_RIS = np.array([rayleigh_channel(distance(BS1, RIS)) for _ in range(N)])\n",
    "f_BS2_RIS = np.array([rayleigh_channel(distance(BS2, RIS)) for _ in range(N)])\n",
    "h_RIS_U1 = np.array([rayleigh_channel(distance(RIS, U1)) for _ in range(N)])\n",
    "h_RIS_U2 = np.array([rayleigh_channel(distance(RIS, U2)) for _ in range(N)])\n"
   ]
  },
  {
   "cell_type": "code",
   "execution_count": 13,
   "id": "b403d68e",
   "metadata": {},
   "outputs": [],
   "source": [
    "# Optimize RIS phases for U1 (only)\n",
    "theta_opt_U1 = np.exp(1j * np.angle(h_RIS_U1 * np.conj(f_BS1_RIS)))\n",
    "Theta_opt_U1 = np.diag(theta_opt_U1)\n",
    "\n",
    "# Effective channel: BS1 → RIS → U1\n",
    "h_eff_U1 = h_BS1_U1 + h_RIS_U1.conj().T @ Theta_opt_U1 @ f_BS1_RIS\n",
    "snr_U1_opt = (np.abs(h_eff_U1) ** 2 * P) / sigma2\n"
   ]
  },
  {
   "cell_type": "code",
   "execution_count": 14,
   "id": "5a03b3a3",
   "metadata": {},
   "outputs": [],
   "source": [
    "# No RIS: only direct BS1 → U1\n",
    "snr_U1_noris = (np.abs(h_BS1_U1)**2 * P) / sigma2\n",
    "\n",
    "# Random RIS phases\n",
    "theta_rand = np.exp(1j * 2 * np.pi * np.random.rand(N))\n",
    "Theta_rand = np.diag(theta_rand)\n",
    "h_eff_rand_U1 = h_BS1_U1 + h_RIS_U1.conj().T @ Theta_rand @ f_BS1_RIS\n",
    "snr_U1_rand = (np.abs(h_eff_rand_U1)**2 * P) / sigma2\n"
   ]
  },
  {
   "cell_type": "code",
   "execution_count": 15,
   "id": "7a80cd86",
   "metadata": {},
   "outputs": [],
   "source": [
    "# 1. No RIS: BS2 → U2 directly only\n",
    "snr_U2_noris = (np.abs(h_BS2_U2)**2 * P) / sigma2\n",
    "\n",
    "# 2. Random RIS phases\n",
    "h_eff_rand_U2 = h_BS2_U2 + h_RIS_U2.conj().T @ Theta_rand @ f_BS2_RIS\n",
    "snr_U2_rand = (np.abs(h_eff_rand_U2)**2 * P) / sigma2\n",
    "\n",
    "# 3. RIS optimized for U1 (not U2) — may hurt U2!\n",
    "h_eff_optU1_U2 = h_BS2_U2 + h_RIS_U2.conj().T @ Theta_opt_U1 @ f_BS2_RIS\n",
    "snr_U2_optU1 = (np.abs(h_eff_optU1_U2)**2 * P) / sigma2\n"
   ]
  },
  {
   "cell_type": "code",
   "execution_count": 16,
   "id": "86a2a9ee",
   "metadata": {},
   "outputs": [
    {
     "data": {
      "image/png": "[encoded data removed]",
      "text/plain": [
       "<Figure size 800x500 with 1 Axes>"
      ]
     },
     "metadata": {},
     "output_type": "display_data"
    }
   ],
   "source": [
    "# SNR values\n",
    "u1_snrs = [snr_U1_noris, snr_U1_rand, snr_U1_opt]\n",
    "u2_snrs = [snr_U2_noris, snr_U2_rand, snr_U2_optU1]\n",
    "labels = ['No RIS', 'Random RIS', 'RIS for U1']\n",
    "\n",
    "x = np.arange(len(labels))\n",
    "width = 0.35  # width of the bars\n",
    "\n",
    "# Plot\n",
    "plt.figure(figsize=(8, 5))\n",
    "plt.bar(x - width/2, u1_snrs, width, label='U1 (Target)', color='green')\n",
    "plt.bar(x + width/2, u2_snrs, width, label='U2 (Neighbor)', color='orange')\n",
    "\n",
    "plt.ylabel('SNR (dB scale)')\n",
    "plt.xticks(x, labels)\n",
    "plt.yscale('log')  # log scale to show SNR differences more clearly\n",
    "plt.title('RIS-Aided Two-Cell Network: SNR Comparison')\n",
    "plt.legend()\n",
    "plt.grid(True, which='both', axis='y', linestyle='--', alpha=0.7)\n",
    "plt.tight_layout()\n",
    "\n",
    "# Optional: Save the figure\n",
    "plt.savefig(\"two_cell_ris_snr_comparison.png\")\n",
    "plt.show()\n"
   ]
  },
  {
   "cell_type": "code",
   "execution_count": 17,
   "id": "1b87dc4e",
   "metadata": {},
   "outputs": [
    {
     "name": "stdout",
     "output_type": "stream",
     "text": [
      "U1 SNRs:\n",
      "  No RIS       : 47.43\n",
      "  Random RIS   : 37.65\n",
      "  Optimized RIS: 173.61\n",
      "\n",
      "U2 SNRs:\n",
      "  No RIS       : 86.68\n",
      "  Random RIS   : 89.75\n",
      "  RIS for U1   : 75.95\n"
     ]
    }
   ],
   "source": [
    "print(\"U1 SNRs:\")\n",
    "print(f\"  No RIS       : {snr_U1_noris:.2f}\")\n",
    "print(f\"  Random RIS   : {snr_U1_rand:.2f}\")\n",
    "print(f\"  Optimized RIS: {snr_U1_opt:.2f}\\n\")\n",
    "\n",
    "print(\"U2 SNRs:\")\n",
    "print(f\"  No RIS       : {snr_U2_noris:.2f}\")\n",
    "print(f\"  Random RIS   : {snr_U2_rand:.2f}\")\n",
    "print(f\"  RIS for U1   : {snr_U2_optU1:.2f}\")\n"
   ]
  },
  {
   "cell_type": "markdown",
   "id": "17026155",
   "metadata": {},
   "source": [
    "##  Case Study Summary: RIS-Aided Two-Cell Network\n",
    "\n",
    "###  Objective\n",
    "Evaluate how a Reconfigurable Intelligent Surface (RIS) placed between two neighboring cells can:\n",
    "- Enhance desired signal strength\n",
    "- Control inter-cell interference\n",
    "- Trade-off performance when optimized for one user\n",
    "\n",
    "---\n",
    "\n",
    "###  Simulation Setup\n",
    "- 2 Base Stations (BS1, BS2)\n",
    "- 2 Users (U1 served by BS1, U2 by BS2)\n",
    "- 1 RIS with N = 16 elements placed at cell boundary\n",
    "- Simulated 3 scenarios:\n",
    "  -  No RIS\n",
    "  -  Random RIS\n",
    "  -  RIS optimized for U1\n",
    "\n",
    "---\n",
    "\n",
    "### Results (SNR in log scale)\n",
    "\n",
    "| Scenario        | U1 SNR (Target) | U2 SNR (Neighbor) |\n",
    "|-----------------|-----------------|-------------------|\n",
    "| No RIS          | Lower (Direct only) | Decent (Direct only) |\n",
    "| Random RIS      | Slight boost     | Neutral or slight boost |\n",
    "| Optimized for U1| **Significant boost** | Slight degradation  |\n",
    "\n",
    "---\n",
    "\n",
    "###  Key Takeaways\n",
    "\n",
    "- RIS phase control provides **major gains** for the intended user\n",
    "- Random phase settings offer mild/unpredictable improvements\n",
    "- Optimizing RIS for one user can **negatively impact others**\n",
    "- Highlights need for **multi-user phase optimization** in practical systems\n",
    "\n",
    "---\n",
    "\n",
    "###  Future Directions\n",
    "\n",
    "- Optimize RIS jointly for U1 and U2\n",
    "- Introduce user mobility\n",
    "- Add D2D links and study resource sharing\n",
    "- Compare passive vs hybrid RIS performance\n",
    "\n",
    "---\n",
    "\n",
    "**Author**: Sharmila Rapeti  \n",
    "**Intern | RIS-D2D for 6G+ Project | SERB Funded**\n"
   ]
  }
 ],
 "metadata": {
  "kernelspec": {
   "display_name": "Python 3",
   "language": "python",
   "name": "python3"
  },
  "language_info": {
   "codemirror_mode": {
    "name": "ipython",
    "version": 3
   },
   "file_extension": ".py",
   "mimetype": "text/x-python",
   "name": "python",
   "nbconvert_exporter": "python",
   "pygments_lexer": "ipython3",
   "version": "3.10.11"
  }
 },
 "nbformat": 4,
 "nbformat_minor": 5
}

